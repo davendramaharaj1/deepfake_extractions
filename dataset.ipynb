{
 "cells": [
  {
   "cell_type": "code",
   "execution_count": 2,
   "metadata": {},
   "outputs": [],
   "source": [
    "import pandas as pd\n",
    "import torch\n",
    "from torch.utils.data import Dataset\n",
    "from pytorchvideo.data.encoded_video import EncodedVideo\n",
    "from pytorchvideo.transforms import UniformTemporalSubsample\n",
    "from torchvision.transforms import Compose, Lambda, Resize, Normalize\n",
    "from pytorchvideo.data.clip_sampling import UniformClipSampler"
   ]
  },
  {
   "cell_type": "code",
   "execution_count": null,
   "metadata": {},
   "outputs": [],
   "source": [
    "\n",
    "# Define transformations for video and text\n",
    "video_transforms = Compose([\n",
    "    Lambda(lambda x: x / 255.0),  # Normalize the video\n",
    "    Resize((224, 224))  # Resize video frames\n",
    "])\n",
    "\n",
    "text_transforms = Compose([\n",
    "    Lambda(lambda x: x.lower()),  # Convert text to lowercase\n",
    "])"
   ]
  },
  {
   "cell_type": "code",
   "execution_count": null,
   "metadata": {},
   "outputs": [],
   "source": [
    "import pandas as pd\n",
    "from pytorchvideo.data import LabeledVideoDataset\n",
    "from torch.utils.data import Dataset\n",
    "\n",
    "class VideoTextDataset(Dataset):\n",
    "    def __init__(self, video_csv_file, text_csv_file, labels, video_transform=None, text_transform=None):\n",
    "        \"\"\"\n",
    "        Initializes the dataset with paths to videos and associated text.\n",
    "        \"\"\"\n",
    "        # self.video_df = pd.read_csv(video_csv_file)\n",
    "        self.text_df = pd.read_csv(text_csv_file)\n",
    "        self.labels_df = pd.read_csv(labels)\n",
    "\n",
    "        self.video_dataset = LabeledVideoDataset(\n",
    "            data_path=video_csv_file,\n",
    "            clip_sampler=UniformClipSampler(clip_duration=2.0),\n",
    "            transform=video_transform,\n",
    "            decode_audio=False\n",
    "        )\n",
    "\n",
    "        self.text_transform = text_transform\n",
    "\n",
    "    def __len__(self):\n",
    "        return len(self.video_dataset)\n",
    "\n",
    "    def __getitem__(self, idx):\n",
    "        video_data = self.video_dataset[idx]\n",
    "        text = self.data_frame.iloc[idx]['text_label']\n",
    "\n",
    "        if self.text_transform:\n",
    "            text = self.text_transform(text)\n",
    "\n",
    "        return {'video': video_data['video'], 'label': video_data['label'], 'text': text}\n",
    "\n",
    "video_transform = Compose([\n",
    "    # Example video transformations\n",
    "    UniformTemporalSubsample(8),\n",
    "    Lambda(lambda x: x / 255.0),\n",
    "    Normalize((0.45, 0.45, 0.45), (0.225, 0.225, 0.225)),\n",
    "])\n",
    "\n",
    "text_transform = Compose([\n",
    "    # Example text transformations\n",
    "    Lambda(lambda x: x.lower()),\n",
    "])\n",
    "\n",
    "dataset = VideoTextDataset(\n",
    "    csv_file='path/to/your/csvfile.csv',\n",
    "    video_transform=video_transform,\n",
    "    text_transform=text_transform\n",
    ")\n"
   ]
  }
 ],
 "metadata": {
  "kernelspec": {
   "display_name": "mlprj",
   "language": "python",
   "name": "python3"
  },
  "language_info": {
   "codemirror_mode": {
    "name": "ipython",
    "version": 3
   },
   "file_extension": ".py",
   "mimetype": "text/x-python",
   "name": "python",
   "nbconvert_exporter": "python",
   "pygments_lexer": "ipython3",
   "version": "3.12.2"
  }
 },
 "nbformat": 4,
 "nbformat_minor": 2
}
