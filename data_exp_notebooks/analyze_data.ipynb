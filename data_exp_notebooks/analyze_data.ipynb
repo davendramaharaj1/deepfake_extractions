{
 "cells": [
  {
   "cell_type": "code",
   "execution_count": 68,
   "metadata": {},
   "outputs": [],
   "source": [
    "import os\n",
    "import numpy as np\n",
    "import pandas as pd\n",
    "import cv2\n",
    "import seaborn as sns\n",
    "import matplotlib.pyplot as plt\n",
    "plt.style.use(\"fivethirtyeight\")\n"
   ]
  },
  {
   "cell_type": "code",
   "execution_count": 69,
   "metadata": {},
   "outputs": [],
   "source": [
    "train_path = '../train'\n",
    "val_path = '../val'\n",
    "test_path = '../test'"
   ]
  },
  {
   "cell_type": "code",
   "execution_count": 70,
   "metadata": {},
   "outputs": [],
   "source": [
    "def get_video_info(video_path):\n",
    "\n",
    "    fps = []\n",
    "    duration = []\n",
    "    failed = []\n",
    "\n",
    "    record = {}\n",
    "\n",
    "    for i, file in enumerate(os.listdir(video_path)):\n",
    "\n",
    "        filepath = os.path.join(video_path, file)\n",
    "        # print(filepath)\n",
    "\n",
    "        cap = cv2.VideoCapture(filepath)\n",
    "\n",
    "        if not cap.isOpened():\n",
    "            # print(f'Error: Unable to open {filepath}')\n",
    "            failed.append(filepath)\n",
    "            continue\n",
    "\n",
    "        _fps = cap.get(cv2.CAP_PROP_FPS)\n",
    "        _duration = cap.get(cv2.CAP_PROP_FRAME_COUNT) / _fps\n",
    "\n",
    "        fps.append(_fps)\n",
    "        duration.append(_duration)\n",
    "\n",
    "        video_name, _ = os.path.splitext(file)\n",
    "\n",
    "        record[video_name] = {}\n",
    "\n",
    "        record[video_name]['fps'] = _fps\n",
    "        record[video_name]['duration'] = _duration\n",
    "\n",
    "    return fps, duration, record, failed\n",
    "\n",
    "    \n",
    "    "
   ]
  },
  {
   "cell_type": "code",
   "execution_count": 71,
   "metadata": {},
   "outputs": [],
   "source": [
    "def find_video_names(record, target_duration):\n",
    "    matching_video_names = []\n",
    "\n",
    "    for video_name, info in record.items():\n",
    "        if info['duration'] == target_duration:\n",
    "            matching_video_names.append(video_name)\n",
    "\n",
    "    return matching_video_names"
   ]
  },
  {
   "cell_type": "code",
   "execution_count": 72,
   "metadata": {},
   "outputs": [],
   "source": [
    "def analyze_video_info_distribution(record):\n",
    "    # Extract durations and fps from the record dictionary\n",
    "    durations = [info['duration'] for info in record.values()]\n",
    "    fps_values = [info['fps'] for info in record.values()]\n",
    "\n",
    "    # Create subplots for durations and fps\n",
    "    fig, axes = plt.subplots(1, 2, figsize=(12, 6))\n",
    "\n",
    "    # Plot histogram for durations\n",
    "    axes[0].hist(durations, bins=20, edgecolor='black')\n",
    "    axes[0].set_title('Distribution of Video Durations')\n",
    "    axes[0].set_xlabel('Duration (seconds)')\n",
    "    axes[0].set_ylabel('Frequency')\n",
    "    axes[0].grid(True)\n",
    "\n",
    "    # Plot histogram for fps\n",
    "    axes[1].hist(fps_values, bins=20, edgecolor='black')\n",
    "    axes[1].set_title('Distribution of FPS')\n",
    "    axes[1].set_xlabel('FPS')\n",
    "    axes[1].set_ylabel('Frequency')\n",
    "    axes[1].grid(True)\n",
    "\n",
    "    # Adjust layout\n",
    "    plt.tight_layout()\n",
    "\n",
    "    # Show the plots\n",
    "    plt.show()"
   ]
  },
  {
   "cell_type": "code",
   "execution_count": 73,
   "metadata": {},
   "outputs": [],
   "source": [
    "def plot_video_statistics_from_record_enhanced(record):\n",
    "    # Extract FPS and duration from the record dictionary\n",
    "    fps = [info['fps'] for info in record.values()]\n",
    "    duration = [info['duration'] for info in record.values()]\n",
    "\n",
    "    # Define the number of bins for the histograms based on the range of data using the square root rule\n",
    "    bins_fps = int(np.sqrt(len(fps)))\n",
    "    bins_duration = int(np.sqrt(len(duration)))\n",
    "\n",
    "    # Plot for FPS distribution with KDE\n",
    "    plt.figure(figsize=(10, 8))\n",
    "    sns.histplot(fps, bins=bins_fps, kde=True, color='skyblue')\n",
    "    plt.title('Distribution of Frames Per Second (FPS) with KDE')\n",
    "    plt.xlabel('FPS')\n",
    "    plt.ylabel('Frequency')\n",
    "    plt.grid(True)\n",
    "    plt.tight_layout()\n",
    "    plt.show()\n",
    "\n",
    "    # Plot for Duration distribution with KDE\n",
    "    plt.figure(figsize=(10, 8))\n",
    "    sns.histplot(duration, bins=bins_duration, kde=True, color='salmon')\n",
    "    plt.title('Distribution of Video Duration (seconds) with KDE')\n",
    "    plt.xlabel('Duration (seconds)')\n",
    "    plt.ylabel('Frequency')\n",
    "    plt.grid(True)\n",
    "    plt.tight_layout()\n",
    "    plt.show()"
   ]
  },
  {
   "cell_type": "code",
   "execution_count": 74,
   "metadata": {},
   "outputs": [],
   "source": [
    "fps_list = []\n",
    "duration = []\n",
    "failed = []\n",
    "record = None"
   ]
  },
  {
   "cell_type": "code",
   "execution_count": 75,
   "metadata": {},
   "outputs": [],
   "source": [
    "fps_list, duration, record, failed = get_video_info(video_path=train_path)"
   ]
  },
  {
   "cell_type": "code",
   "execution_count": null,
   "metadata": {},
   "outputs": [],
   "source": [
    "plot_video_statistics_from_record_enhanced(record=record)"
   ]
  },
  {
   "cell_type": "code",
   "execution_count": null,
   "metadata": {},
   "outputs": [],
   "source": [
    "def plot_video_statistics_with_curve(record):\n",
    "    # Extract FPS and duration from the record dictionary\n",
    "    fps_list = [info['fps'] for info in record.values()]\n",
    "    duration_list = [info['duration'] for info in record.values()]\n",
    "    video_ids = list(record.keys())  # Assuming video_ids are sorted in the desired order\n",
    "\n",
    "    # Sort the fps and durations according to the video_ids\n",
    "    fps_sorted = [record[video_id]['fps'] for video_id in video_ids]\n",
    "    duration_sorted = [record[video_id]['duration'] for video_id in video_ids]\n",
    "\n",
    "    # Plot FPS and duration as line plots to show variation over video_ids\n",
    "    fig, axes = plt.subplots(2, 1, figsize=(14, 10))\n",
    "\n",
    "    axes[0].plot(video_ids, fps_sorted, marker='o', linestyle='-', color='skyblue')\n",
    "    axes[0].set_title('FPS Variation Over Videos')\n",
    "    axes[0].set_xlabel('Video IDs')\n",
    "    axes[0].set_ylabel('FPS')\n",
    "    axes[0].grid(True)\n",
    "\n",
    "    axes[1].plot(video_ids, duration_sorted, marker='o', linestyle='-', color='salmon')\n",
    "    axes[1].set_title('Duration Variation Over Videos')\n",
    "    axes[1].set_xlabel('Video IDs')\n",
    "    axes[1].set_ylabel('Duration (seconds)')\n",
    "    axes[1].grid(True)\n",
    "\n",
    "    plt.tight_layout()\n",
    "    plt.show()\n",
    "\n",
    "# Example usage with the sample record (using the same record_example as defined previously)\n",
    "plot_video_statistics_with_curve(record=record)"
   ]
  },
  {
   "cell_type": "code",
   "execution_count": null,
   "metadata": {},
   "outputs": [],
   "source": [
    "def plot_video_statistics_with_fitted_curve(record):\n",
    "    # Extract FPS and duration from the record dictionary\n",
    "    fps = [info['fps'] for info in record.values()]\n",
    "    duration = [info['duration'] for info in record.values()]\n",
    "    \n",
    "    # Create an array of video indexes\n",
    "    video_indexes = np.arange(len(record))\n",
    "\n",
    "    # Fit a curve using a polynomial for fps and duration\n",
    "    fps_fit = np.poly1d(np.polyfit(video_indexes, fps, 3))\n",
    "    duration_fit = np.poly1d(np.polyfit(video_indexes, duration, 3))\n",
    "\n",
    "    # Generate values for the fitted curve\n",
    "    x_fit = np.linspace(video_indexes.min(), video_indexes.max(), 100)\n",
    "    y_fps_fit = fps_fit(x_fit)\n",
    "    y_duration_fit = duration_fit(x_fit)\n",
    "\n",
    "    # Plot FPS and duration with fitted curves\n",
    "    fig, axes = plt.subplots(2, 1, figsize=(14, 10))\n",
    "\n",
    "    axes[0].plot(video_indexes, fps, 'o', color='skyblue', label='Original Data')\n",
    "    axes[0].plot(x_fit, y_fps_fit, '-', color='darkblue', label='Fitted Curve')\n",
    "    axes[0].set_title('FPS Fitted Curve')\n",
    "    axes[0].set_xlabel('Video Index')\n",
    "    axes[0].set_ylabel('FPS')\n",
    "    axes[0].legend()\n",
    "    axes[0].grid(True)\n",
    "\n",
    "    axes[1].plot(video_indexes, duration, 'o', color='salmon', label='Original Data')\n",
    "    axes[1].plot(x_fit, y_duration_fit, '-', color='darkred', label='Fitted Curve')\n",
    "    axes[1].set_title('Duration Fitted Curve')\n",
    "    axes[1].set_xlabel('Video Index')\n",
    "    axes[1].set_ylabel('Duration (seconds)')\n",
    "    axes[1].legend()\n",
    "    axes[1].grid(True)\n",
    "\n",
    "    plt.tight_layout()\n",
    "    plt.show()\n",
    "\n",
    "# Call the function with the example record\n",
    "plot_video_statistics_with_fitted_curve(record=record)\n"
   ]
  },
  {
   "cell_type": "code",
   "execution_count": null,
   "metadata": {},
   "outputs": [],
   "source": [
    "from scipy.stats import gaussian_kde\n",
    "\n",
    "\n",
    "\n",
    "def plot_fitted_frequency_curves_from_record(record):\n",
    "    # Extract FPS and duration from the record dictionary\n",
    "    fps = [info['fps'] for info in record.values()]\n",
    "    duration = [info['duration'] for info in record.values()]\n",
    "    \n",
    "    # Calculate the point density for FPS and Duration using gaussian_kde\n",
    "    fps_density = gaussian_kde(fps)\n",
    "    duration_density = gaussian_kde(duration)\n",
    "\n",
    "    # Create a linspace for the x-axis to evaluate the density functions\n",
    "    fps_x = np.linspace(min(fps), max(fps), 1000)\n",
    "    duration_x = np.linspace(min(duration), max(duration), 1000)\n",
    "\n",
    "    # Evaluate the density function at the linspace points\n",
    "    fps_y = fps_density(fps_x)\n",
    "    duration_y = duration_density(duration_x)\n",
    "\n",
    "    # Plot the fitted frequency curves for FPS and Duration\n",
    "    fig, axes = plt.subplots(2, 1, figsize=(10, 8))\n",
    "\n",
    "    axes[0].plot(fps_x, fps_y, color='skyblue')\n",
    "    axes[0].set_title('Fitted Frequency Curve for FPS')\n",
    "    axes[0].set_xlabel('FPS')\n",
    "    axes[0].set_ylabel('Density')\n",
    "    axes[0].grid(True)\n",
    "\n",
    "    axes[1].plot(duration_x, duration_y, color='salmon')\n",
    "    axes[1].set_title('Fitted Frequency Curve for Duration')\n",
    "    axes[1].set_xlabel('Duration (seconds)')\n",
    "    axes[1].set_ylabel('Density')\n",
    "    axes[1].grid(True)\n",
    "\n",
    "    plt.tight_layout()\n",
    "    plt.show()\n",
    "\n",
    "# Example usage with the sample record (using the same record_example as defined previously)\n",
    "plot_fitted_frequency_curves_from_record(record)\n"
   ]
  },
  {
   "cell_type": "code",
   "execution_count": null,
   "metadata": {},
   "outputs": [],
   "source": [
    "analyze_video_info_distribution(record)"
   ]
  },
  {
   "cell_type": "code",
   "execution_count": 43,
   "metadata": {},
   "outputs": [
    {
     "data": {
      "text/plain": [
       "[]"
      ]
     },
     "execution_count": 43,
     "metadata": {},
     "output_type": "execute_result"
    }
   ],
   "source": [
    "failed"
   ]
  },
  {
   "cell_type": "code",
   "execution_count": 44,
   "metadata": {},
   "outputs": [
    {
     "data": {
      "text/plain": [
       "621"
      ]
     },
     "execution_count": 44,
     "metadata": {},
     "output_type": "execute_result"
    }
   ],
   "source": [
    "len(fps_list)"
   ]
  },
  {
   "cell_type": "code",
   "execution_count": 45,
   "metadata": {},
   "outputs": [
    {
     "data": {
      "text/plain": [
       "0"
      ]
     },
     "execution_count": 45,
     "metadata": {},
     "output_type": "execute_result"
    }
   ],
   "source": [
    "num_zero = fps_list.count(0.0)\n",
    "num_zero"
   ]
  },
  {
   "cell_type": "code",
   "execution_count": 46,
   "metadata": {},
   "outputs": [
    {
     "data": {
      "text/plain": [
       "0"
      ]
     },
     "execution_count": 46,
     "metadata": {},
     "output_type": "execute_result"
    }
   ],
   "source": [
    "num_duration_zero = duration.count(0.0)\n",
    "num_duration_zero"
   ]
  },
  {
   "cell_type": "code",
   "execution_count": 47,
   "metadata": {},
   "outputs": [],
   "source": [
    "min_fps, max_fps = min(fps_list), max(fps_list)\n",
    "min_dur, max_dur = min(duration), max(duration)"
   ]
  },
  {
   "cell_type": "code",
   "execution_count": 48,
   "metadata": {},
   "outputs": [
    {
     "name": "stdout",
     "output_type": "stream",
     "text": [
      "Min FPS = 15.0, Max FPS = 30.0\n",
      "Min Duration = 2.665, Max Duration = 7831.29037370704\n"
     ]
    }
   ],
   "source": [
    "print(f'Min FPS = {min_fps}, Max FPS = {max_fps}')\n",
    "print(f'Min Duration = {min_dur}, Max Duration = {max_dur}')"
   ]
  },
  {
   "cell_type": "code",
   "execution_count": 28,
   "metadata": {},
   "outputs": [],
   "source": [
    "video_name = find_video_names(record=record, target_duration=7831.29037370704)"
   ]
  },
  {
   "cell_type": "code",
   "execution_count": 29,
   "metadata": {},
   "outputs": [
    {
     "data": {
      "text/plain": [
       "['z0hNCHcJkmw']"
      ]
     },
     "execution_count": 29,
     "metadata": {},
     "output_type": "execute_result"
    }
   ],
   "source": [
    "video_name"
   ]
  },
  {
   "cell_type": "code",
   "execution_count": 33,
   "metadata": {},
   "outputs": [],
   "source": [
    "df = pd.read_csv('../train.csv')"
   ]
  },
  {
   "cell_type": "code",
   "execution_count": 34,
   "metadata": {},
   "outputs": [
    {
     "data": {
      "text/html": [
       "<div>\n",
       "<style scoped>\n",
       "    .dataframe tbody tr th:only-of-type {\n",
       "        vertical-align: middle;\n",
       "    }\n",
       "\n",
       "    .dataframe tbody tr th {\n",
       "        vertical-align: top;\n",
       "    }\n",
       "\n",
       "    .dataframe thead th {\n",
       "        text-align: right;\n",
       "    }\n",
       "</style>\n",
       "<table border=\"1\" class=\"dataframe\">\n",
       "  <thead>\n",
       "    <tr style=\"text-align: right;\">\n",
       "      <th></th>\n",
       "      <th>video_id</th>\n",
       "      <th>text</th>\n",
       "      <th>label</th>\n",
       "    </tr>\n",
       "  </thead>\n",
       "  <tbody>\n",
       "    <tr>\n",
       "      <th>434</th>\n",
       "      <td>z0hNCHcJkmw</td>\n",
       "      <td>adesso lavorare scuza barack obama anche te na...</td>\n",
       "      <td>0</td>\n",
       "    </tr>\n",
       "  </tbody>\n",
       "</table>\n",
       "</div>"
      ],
      "text/plain": [
       "        video_id                                               text  label\n",
       "434  z0hNCHcJkmw  adesso lavorare scuza barack obama anche te na...      0"
      ]
     },
     "execution_count": 34,
     "metadata": {},
     "output_type": "execute_result"
    }
   ],
   "source": [
    "mask = df['video_id'] == 'z0hNCHcJkmw'\n",
    "df[mask]"
   ]
  },
  {
   "cell_type": "code",
   "execution_count": 35,
   "metadata": {},
   "outputs": [],
   "source": [
    "train_df = pd.read_csv('../negative/training.csv')"
   ]
  },
  {
   "cell_type": "code",
   "execution_count": null,
   "metadata": {},
   "outputs": [],
   "source": [
    "mask = train_df['video_id'] == 'z0hNCHcJkmw'\n",
    "train_df[mask]"
   ]
  }
 ],
 "metadata": {
  "kernelspec": {
   "display_name": "mlprj",
   "language": "python",
   "name": "python3"
  },
  "language_info": {
   "codemirror_mode": {
    "name": "ipython",
    "version": 3
   },
   "file_extension": ".py",
   "mimetype": "text/x-python",
   "name": "python",
   "nbconvert_exporter": "python",
   "pygments_lexer": "ipython3",
   "version": "3.12.2"
  }
 },
 "nbformat": 4,
 "nbformat_minor": 2
}
