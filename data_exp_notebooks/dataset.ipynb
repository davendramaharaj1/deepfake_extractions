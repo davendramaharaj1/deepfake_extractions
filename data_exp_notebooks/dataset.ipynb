{
 "cells": [
  {
   "cell_type": "code",
   "execution_count": 4,
   "metadata": {},
   "outputs": [],
   "source": [
    "import pandas as pd\n",
    "import torch\n",
    "from torch.utils.data import Dataset\n",
    "\n",
    "from torchvision.transforms import Compose, Lambda\n",
    "from pytorchvideo.data.encoded_video import EncodedVideo\n",
    "\n",
    "from pytorchvideo.transforms import (\n",
    "    UniformTemporalSubsample,\n",
    "    ShortSideScale,\n",
    "    Normalize,\n",
    "    UniformCropVideo\n",
    ")\n",
    "\n",
    "from pytorchvideo.data.clip_sampling import (\n",
    "    UniformClipSampler,\n",
    ")"
   ]
  },
  {
   "cell_type": "code",
   "execution_count": 13,
   "metadata": {},
   "outputs": [],
   "source": [
    "import pandas as pd\n",
    "from pytorchvideo.data import LabeledVideoDataset\n",
    "from torch.utils.data import Dataset\n",
    "\n",
    "class VideoTextDataset(Dataset):\n",
    "    def __init__(self, video_csv_file, text_csv_file, labels=None, video_transform=None, text_transform=None):\n",
    "        \"\"\"\n",
    "        Initializes the dataset with paths to videos and associated text.\n",
    "        \"\"\"\n",
    "        # self.video_df = pd.read_csv(video_csv_file)\n",
    "        self.text_df = pd.read_csv(text_csv_file)\n",
    "        # self.labels_df = pd.read_csv(labels)\n",
    "        # self.data_df = pd.read_csv(csv_file)\n",
    "        # video_df = self.data_df[['video_id', 'label']].copy()\n",
    "        # text_df = self.data_df[['text', 'label']].copy()\n",
    "\n",
    "        self.video_dataset = LabeledVideoDataset(\n",
    "            labeled_video_paths=video_csv_file,\n",
    "            clip_sampler=UniformClipSampler(clip_duration=2.0),\n",
    "            transform=video_transform,\n",
    "            decode_audio=False\n",
    "        )\n",
    "\n",
    "        self.text_transform = text_transform\n",
    "\n",
    "    def __len__(self):\n",
    "        return len(self.video_dataset)\n",
    "\n",
    "    def __getitem__(self, idx):\n",
    "\n",
    "        video_data = self.video_dataset[idx]\n",
    "        # text = self.data_df.iloc[idx]['text']\n",
    "        text = self.text_df.iloc[idx]['text']\n",
    "\n",
    "        if self.text_transform:\n",
    "            text = self.text_transform(text)\n",
    "\n",
    "        return {'video': video_data['video'], 'label': self.text_df['label'], 'text': text}\n",
    "\n",
    "video_transform = Compose([\n",
    "    # Example video transformations\n",
    "    UniformTemporalSubsample(8),\n",
    "    Lambda(lambda x: x / 255.0),\n",
    "    Normalize((0.45, 0.45, 0.45), (0.225, 0.225, 0.225)),\n",
    "    ShortSideScale(size=256),\n",
    "    UniformCropVideo(size=256)\n",
    "])\n",
    "\n",
    "text_transform = Compose([\n",
    "    # Example text transformations\n",
    "    Lambda(lambda x: x.lower()),\n",
    "])\n"
   ]
  },
  {
   "cell_type": "code",
   "execution_count": 14,
   "metadata": {},
   "outputs": [],
   "source": [
    "dataset = VideoTextDataset(\n",
    "    video_csv_file='../train_annotations.csv',\n",
    "    text_csv_file='../text_train.csv',\n",
    "    video_transform=video_transform\n",
    "    # text_transform=text_transform\n",
    ")"
   ]
  },
  {
   "cell_type": "code",
   "execution_count": 17,
   "metadata": {},
   "outputs": [
    {
     "ename": "NotImplementedError",
     "evalue": "Subclasses of Dataset should implement __getitem__.",
     "output_type": "error",
     "traceback": [
      "\u001b[0;31m---------------------------------------------------------------------------\u001b[0m",
      "\u001b[0;31mNotImplementedError\u001b[0m                       Traceback (most recent call last)",
      "Cell \u001b[0;32mIn[17], line 1\u001b[0m\n\u001b[0;32m----> 1\u001b[0m data \u001b[38;5;241m=\u001b[39m \u001b[43mdataset\u001b[49m\u001b[43m[\u001b[49m\u001b[38;5;241;43m0\u001b[39;49m\u001b[43m]\u001b[49m\n",
      "Cell \u001b[0;32mIn[13], line 31\u001b[0m, in \u001b[0;36mVideoTextDataset.__getitem__\u001b[0;34m(self, idx)\u001b[0m\n\u001b[1;32m     29\u001b[0m \u001b[38;5;28;01mdef\u001b[39;00m \u001b[38;5;21m__getitem__\u001b[39m(\u001b[38;5;28mself\u001b[39m, idx):\n\u001b[0;32m---> 31\u001b[0m     video_data \u001b[38;5;241m=\u001b[39m \u001b[38;5;28;43mself\u001b[39;49m\u001b[38;5;241;43m.\u001b[39;49m\u001b[43mvideo_dataset\u001b[49m\u001b[43m[\u001b[49m\u001b[43midx\u001b[49m\u001b[43m]\u001b[49m\n\u001b[1;32m     32\u001b[0m     \u001b[38;5;66;03m# text = self.data_df.iloc[idx]['text']\u001b[39;00m\n\u001b[1;32m     33\u001b[0m     text \u001b[38;5;241m=\u001b[39m \u001b[38;5;28mself\u001b[39m\u001b[38;5;241m.\u001b[39mtext_df\u001b[38;5;241m.\u001b[39miloc[idx][\u001b[38;5;124m'\u001b[39m\u001b[38;5;124mtext\u001b[39m\u001b[38;5;124m'\u001b[39m]\n",
      "File \u001b[0;32m~/anaconda3/envs/mlprj/lib/python3.12/site-packages/torch/utils/data/dataset.py:60\u001b[0m, in \u001b[0;36mDataset.__getitem__\u001b[0;34m(self, index)\u001b[0m\n\u001b[1;32m     59\u001b[0m \u001b[38;5;28;01mdef\u001b[39;00m \u001b[38;5;21m__getitem__\u001b[39m(\u001b[38;5;28mself\u001b[39m, index) \u001b[38;5;241m-\u001b[39m\u001b[38;5;241m>\u001b[39m T_co:\n\u001b[0;32m---> 60\u001b[0m     \u001b[38;5;28;01mraise\u001b[39;00m \u001b[38;5;167;01mNotImplementedError\u001b[39;00m(\u001b[38;5;124m\"\u001b[39m\u001b[38;5;124mSubclasses of Dataset should implement __getitem__.\u001b[39m\u001b[38;5;124m\"\u001b[39m)\n",
      "\u001b[0;31mNotImplementedError\u001b[0m: Subclasses of Dataset should implement __getitem__."
     ]
    }
   ],
   "source": [
    "data = dataset[0]"
   ]
  }
 ],
 "metadata": {
  "kernelspec": {
   "display_name": "mlprj",
   "language": "python",
   "name": "python3"
  },
  "language_info": {
   "codemirror_mode": {
    "name": "ipython",
    "version": 3
   },
   "file_extension": ".py",
   "mimetype": "text/x-python",
   "name": "python",
   "nbconvert_exporter": "python",
   "pygments_lexer": "ipython3",
   "version": "3.12.2"
  }
 },
 "nbformat": 4,
 "nbformat_minor": 2
}
